{
  "nbformat": 4,
  "nbformat_minor": 0,
  "metadata": {
    "colab": {
      "name": "test.ipynb",
      "provenance": [],
      "collapsed_sections": []
    },
    "kernelspec": {
      "name": "python3",
      "display_name": "Python 3"
    },
    "language_info": {
      "name": "python"
    }
  },
  "cells": [
    {
      "cell_type": "code",
      "execution_count": 18,
      "metadata": {
        "id": "s-xzG1fsXXpJ"
      },
      "outputs": [],
      "source": [
        "# Импортируем модули и библиотеки\n",
        "import numpy as np\n",
        "import matplotlib.pyplot as plt\n",
        "import tensorflow as tf\n",
        "import pandas as pd\n",
        "from tensorflow import keras\n",
        "%matplotlib inline\n",
        "from tensorflow.keras.datasets import fashion_mnist\n",
        "from tensorflow.keras.models import Sequential\n",
        "from tensorflow.keras.layers import Dense, Dropout\n",
        "from tensorflow.keras import utils"
      ]
    },
    {
      "cell_type": "code",
      "source": [
        "# Делим наш датасет на обучающую и тестовую выборку\n",
        "(x_train, y_train), (x_test, y_test) = tf.keras.datasets.mnist.load_data(path=\"mnist.npz\")"
      ],
      "metadata": {
        "colab": {
          "base_uri": "https://localhost:8080/"
        },
        "id": "SRMgjOimYAuI",
        "outputId": "6c0da59e-aad9-410a-9550-4235104c3143"
      },
      "execution_count": 3,
      "outputs": [
        {
          "output_type": "stream",
          "name": "stdout",
          "text": [
            "Downloading data from https://storage.googleapis.com/tensorflow/tf-keras-datasets/mnist.npz\n",
            "11493376/11490434 [==============================] - 0s 0us/step\n",
            "11501568/11490434 [==============================] - 0s 0us/step\n"
          ]
        }
      ]
    },
    {
      "cell_type": "code",
      "source": [
        "# Предворительная обработка данных\n",
        "# Нормализация данных\n",
        "x_train = x_train / 250\n",
        "x_test = x_test / 250\n",
        "\n",
        "# Проверка на работу нормализованных данных\n",
        "plt.figure()\n",
        "plt.imshow(x_train[4])\n",
        "plt.colorbar()\n",
        "plt.grid(False)"
      ],
      "metadata": {
        "id": "IrUSCvZhZRV1",
        "colab": {
          "base_uri": "https://localhost:8080/",
          "height": 265
        },
        "outputId": "1603fa6e-6c8a-49b1-d1b0-5c3ca7ee4f4e"
      },
      "execution_count": 4,
      "outputs": [
        {
          "output_type": "display_data",
          "data": {
            "text/plain": [
              "<Figure size 432x288 with 2 Axes>"
            ],
            "image/png": "[encoded data removed]"
          },
          "metadata": {
            "needs_background": "light"
          }
        }
      ]
    },
    {
      "cell_type": "code",
      "source": [
        "# Создание модели нейронной сети\n",
        "model = keras.Sequential([\n",
        "                          keras.layers.Flatten(input_shape=(28,28)),\n",
        "                          keras.layers.Dense(820, activation=\"relu\"),\n",
        "                          keras.layers.Dense(10, activation=\"softmax\")\n",
        "])"
      ],
      "metadata": {
        "id": "A9yP-CqUaJjk"
      },
      "execution_count": 5,
      "outputs": []
    },
    {
      "cell_type": "code",
      "source": [
        "# Компиляция модели\n",
        "model.compile(optimizer=tf.keras.optimizers.SGD(), loss='sparse_categorical_crossentropy', metrics=['accuracy'])"
      ],
      "metadata": {
        "id": "7NN6dkVqavgZ"
      },
      "execution_count": 6,
      "outputs": []
    },
    {
      "cell_type": "code",
      "source": [
        "# Обучение модели\n",
        "history = model.fit(x_train, y_train, epochs=15)"
      ],
      "metadata": {
        "colab": {
          "base_uri": "https://localhost:8080/"
        },
        "id": "2ANxyrudbLLT",
        "outputId": "ca092097-38b0-439c-8d98-db36659f6607"
      },
      "execution_count": 10,
      "outputs": [
        {
          "output_type": "stream",
          "name": "stdout",
          "text": [
            "Epoch 1/15\n",
            "1875/1875 [==============================] - 10s 5ms/step - loss: 0.1439 - accuracy: 0.9611\n",
            "Epoch 2/15\n",
            "1875/1875 [==============================] - 10s 5ms/step - loss: 0.1355 - accuracy: 0.9634\n",
            "Epoch 3/15\n",
            "1875/1875 [==============================] - 10s 5ms/step - loss: 0.1276 - accuracy: 0.9658\n",
            "Epoch 4/15\n",
            "1875/1875 [==============================] - 10s 5ms/step - loss: 0.1209 - accuracy: 0.9671\n",
            "Epoch 5/15\n",
            "1875/1875 [==============================] - 10s 5ms/step - loss: 0.1146 - accuracy: 0.9689\n",
            "Epoch 6/15\n",
            "1875/1875 [==============================] - 10s 5ms/step - loss: 0.1091 - accuracy: 0.9707\n",
            "Epoch 7/15\n",
            "1875/1875 [==============================] - 10s 5ms/step - loss: 0.1039 - accuracy: 0.9724\n",
            "Epoch 8/15\n",
            "1875/1875 [==============================] - 10s 6ms/step - loss: 0.0992 - accuracy: 0.9740\n",
            "Epoch 9/15\n",
            "1875/1875 [==============================] - 9s 5ms/step - loss: 0.0948 - accuracy: 0.9750\n",
            "Epoch 10/15\n",
            "1875/1875 [==============================] - 10s 5ms/step - loss: 0.0910 - accuracy: 0.9760\n",
            "Epoch 11/15\n",
            "1875/1875 [==============================] - 9s 5ms/step - loss: 0.0871 - accuracy: 0.9772\n",
            "Epoch 12/15\n",
            "1875/1875 [==============================] - 9s 5ms/step - loss: 0.0837 - accuracy: 0.9783\n",
            "Epoch 13/15\n",
            "1875/1875 [==============================] - 9s 5ms/step - loss: 0.0805 - accuracy: 0.9789\n",
            "Epoch 14/15\n",
            "1875/1875 [==============================] - 9s 5ms/step - loss: 0.0775 - accuracy: 0.9800\n",
            "Epoch 15/15\n",
            "1875/1875 [==============================] - 9s 5ms/step - loss: 0.0746 - accuracy: 0.9808\n"
          ]
        }
      ]
    },
    {
      "cell_type": "code",
      "source": [
        "model_history = pd.DataFrame(history.history)\n",
        "\n",
        "plt.figure()\n",
        "\n",
        "plt.subplot(2, 1, 1)\n",
        "plt.plot(model_history.index , model_history.loss, label='Loss', color=\"r\")\n",
        "plt.legend()\n",
        "\n",
        "plt.subplot(2, 1, 2)\n",
        "plt.plot(model_history.index , model_history.accuracy, label='Accuracy', color=\"g\")\n",
        "plt.legend()\n",
        "plt.show()"
      ],
      "metadata": {
        "colab": {
          "base_uri": "https://localhost:8080/",
          "height": 265
        },
        "id": "DuKLUWX9K9sv",
        "outputId": "2ca2adc0-3bff-43e1-9d46-d83f94d84eb3"
      },
      "execution_count": 41,
      "outputs": [
        {
          "output_type": "display_data",
          "data": {
            "text/plain": [
              "<Figure size 432x288 with 2 Axes>"
            ],
            "image/png": "[encoded data removed]"
          },
          "metadata": {
            "needs_background": "light"
          }
        }
      ]
    },
    {
      "cell_type": "code",
      "source": [
        "# Тестирование натренировоной модели\n",
        "test_loss, test_acc = model.evaluate(x_test, y_test)\n",
        "print(f'loss: {str(test_loss)[:6]} - accuracy: {str(test_acc)[:6]}')"
      ],
      "metadata": {
        "colab": {
          "base_uri": "https://localhost:8080/"
        },
        "id": "7ulso56JbYqv",
        "outputId": "48987bab-f894-42de-a632-cd85b91fb786"
      },
      "execution_count": 42,
      "outputs": [
        {
          "output_type": "stream",
          "name": "stdout",
          "text": [
            "313/313 [==============================] - 1s 4ms/step - loss: 0.0916 - accuracy: 0.9733\n",
            "loss: 0.0915 - accuracy: 0.9732\n"
          ]
        }
      ]
    },
    {
      "cell_type": "code",
      "source": [
        "# Предсказываем\n",
        "predictions = model.predict(x_test)"
      ],
      "metadata": {
        "id": "YuKUKMNzcDbQ"
      },
      "execution_count": 43,
      "outputs": []
    },
    {
      "cell_type": "code",
      "source": [
        "index = 3678\n",
        "\n",
        "plt.imshow(x_test[index])\n",
        "plt.title(\"%f\" % np.argmax(predictions[index]))"
      ],
      "metadata": {
        "colab": {
          "base_uri": "https://localhost:8080/",
          "height": 298
        },
        "id": "9LJoN7h_ckF7",
        "outputId": "e2e2466f-985a-42e4-951f-ff857ca3baa6"
      },
      "execution_count": 44,
      "outputs": [
        {
          "output_type": "execute_result",
          "data": {
            "text/plain": [
              "Text(0.5, 1.0, '5.000000')"
            ]
          },
          "metadata": {},
          "execution_count": 44
        },
        {
          "output_type": "display_data",
          "data": {
            "text/plain": [
              "<Figure size 432x288 with 1 Axes>"
            ],
            "image/png": "[encoded data removed]"
          },
          "metadata": {
            "needs_background": "light"
          }
        }
      ]
    },
    {
      "cell_type": "code",
      "source": [
        "model.save(\"mnist.h5\")"
      ],
      "metadata": {
        "id": "r73NPj9lx22P"
      },
      "execution_count": 45,
      "outputs": []
    },
    {
      "cell_type": "code",
      "source": [
        ""
      ],
      "metadata": {
        "id": "0pdOwFdKeN0a"
      },
      "execution_count": null,
      "outputs": []
    }
  ]
}